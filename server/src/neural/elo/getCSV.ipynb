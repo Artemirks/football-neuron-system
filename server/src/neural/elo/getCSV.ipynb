{
 "cells": [
  {
   "cell_type": "code",
   "execution_count": 10,
   "id": "3890c7f1",
   "metadata": {},
   "outputs": [],
   "source": [
    "import http.client\n",
    "import json\n",
    "import csv\n",
    "'''\n",
    "    RFPL: 235\n",
    "    FNL: 236\n",
    "    KUBOKRFPL: 237\n",
    "    PL: 39\n",
    "    CHAMPIONSHIP: 40\n",
    "    CUP: 45\n",
    "    CARABAO: 48\n",
    "'''\n",
    "\n",
    "conn = http.client.HTTPSConnection(\"v3.football.api-sports.io\")\n",
    "\n",
    "headers = {\n",
    "    'x-rapidapi-host': \"v3.football.api-sports.io\",\n",
    "    'x-rapidapi-key': \"55d8d0822bdb3026f52b479e85e3a447\"\n",
    "    }\n",
    "\n",
    "conn.request(\"GET\", \"/fixtures?league=39&season=2023&from=2023-04-01&to=2023-11-21\", headers=headers)\n",
    "#conn.request(\"GET\", \"/fixtures?league=39&season=2022\", headers=headers)\n",
    "\n",
    "res = conn.getresponse()\n",
    "data = res.read()\n",
    "\n",
    "json_data = json.loads(data)\n",
    "\n",
    "json_data = json_data['response']\n",
    "\n",
    "# Открываем CSV-файл для записи\n",
    "with open('csv/England/2023/PL.csv', 'w', newline='') as csvfile:\n",
    "    # Создаем объект для записи CSV\n",
    "    csv_writer = csv.writer(csvfile)\n",
    "    \n",
    "    # Записываем заголовки (названия полей)\n",
    "    csv_writer.writerow(['fixtueID' ,'timestamp', 'home_team_id', 'home_team_name', 'home_goals', 'away_goals', 'away_team_id'\n",
    "                         ,'away_team_name'])\n",
    "    for match in json_data:\n",
    "        match_id = match['fixture']['id']\n",
    "        match_time = match['fixture']['timestamp']\n",
    "        home_id = match['teams']['home']['id']\n",
    "        home_team = match['teams']['home']['name']\n",
    "        home_goals = match['goals']['home']\n",
    "        away_id = match['teams']['away']['id']\n",
    "        away_goals = match['goals']['away']\n",
    "        away_team = match['teams']['away']['name']\n",
    "    # Записываем данные в CSV-файл\n",
    "        csv_writer.writerow([match_id, match_time, home_id, home_team, home_goals, away_goals,away_id, away_team])\n"
   ]
  },
  {
   "cell_type": "code",
   "execution_count": null,
   "id": "e515f3d3",
   "metadata": {},
   "outputs": [],
   "source": []
  },
  {
   "cell_type": "code",
   "execution_count": null,
   "id": "729f9632",
   "metadata": {},
   "outputs": [],
   "source": []
  }
 ],
 "metadata": {
  "kernelspec": {
   "display_name": "Python 3 (ipykernel)",
   "language": "python",
   "name": "python3"
  },
  "language_info": {
   "codemirror_mode": {
    "name": "ipython",
    "version": 3
   },
   "file_extension": ".py",
   "mimetype": "text/x-python",
   "name": "python",
   "nbconvert_exporter": "python",
   "pygments_lexer": "ipython3",
   "version": "3.10.11"
  }
 },
 "nbformat": 4,
 "nbformat_minor": 5
}
