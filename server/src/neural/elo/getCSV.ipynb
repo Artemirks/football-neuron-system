{
 "cells": [
  {
   "cell_type": "code",
   "execution_count": 16,
   "id": "3890c7f1",
   "metadata": {},
   "outputs": [
    {
     "name": "stdout",
     "output_type": "stream",
     "text": [
      "723337 1628440200 744 Eintracht Braunschweig 1 2 175 Hamburger SV\n",
      "723338 1628526600 184 FC Ingolstadt 04 2 1 190 Erzgebirge AUE\n",
      "723339 1628429400 1318 SV Meppen 0 1 159 Hertha Berlin\n",
      "723340 1628353800 1652 SSV ULM 1846 0 1 171 FC Nurnberg\n",
      "723341 1629915300 1630 Bremer Sv 0 12 157 Bayern Munich\n",
      "723342 1628343000 1649 Weiche Flensburg 2 4 191 Holstein Kiel\n",
      "723343 1628526600 1620 FC Viktoria Koln 2 3 167 1899 Hoffenheim\n",
      "723344 1628353800 1622 SV Babelsberg 03 2 2 178 SpVgg Greuther Furth\n",
      "723345 1628534700 745 FC Kaiserslautern 0 1 163 Borussia Monchengladbach\n",
      "723346 1628343000 9355 Lokomotive Leipzig 0 3 168 Bayer Leverkusen\n",
      "723347 1628429400 1660 SV Elversberg 2 2 164 FSV Mainz 05\n",
      "723348 1628343000 189 SV Sandhausen 0 4 173 RB Leipzig\n",
      "723349 1628526600 1323 Sportfreunde Lotte 1 4 785 Karlsruher SC\n",
      "723350 1628343000 9325 Bayreuth 3 6 188 Arminia Bielefeld\n",
      "723351 1628429400 1325 Carl Zeiss Jena 1 1 192 FC Koln\n",
      "723352 1628429400 1619 FC 08 Villingen 1 4 174 FC Schalke 04\n",
      "723353 1628440200 784 FC Wurzburger Kickers 0 1 160 SC Freiburg\n",
      "723354 1628429400 4268 Waldhof Mannheim 2 0 169 Eintracht Frankfurt\n",
      "723355 1628361900 1319 SV Wehen 0 3 165 Borussia Dortmund\n",
      "723356 1628343000 16118 Greifswalder FC 2 4 170 FC Augsburg\n",
      "723357 1628440200 1321 Hansa Rostock 3 2 180 FC Heidenheim\n",
      "723358 1628343000 1324 VfL Osnabruck 2 0 162 Werder Bremen\n",
      "723359 1628343000 1631 Eintracht Norderstedt 0 4 166 Hannover 96\n",
      "723360 1628429400 1657 TuS RW Koblenz 0 3 177 Jahn Regensburg\n",
      "723361 1628429400 9335 Türkgücü-Ataspor 0 1 182 Union Berlin\n"
     ]
    },
    {
     "ename": "UnicodeEncodeError",
     "evalue": "'charmap' codec can't encode character '\\xfc' in position 24: character maps to <undefined>",
     "output_type": "error",
     "traceback": [
      "\u001b[1;31m---------------------------------------------------------------------------\u001b[0m",
      "\u001b[1;31mUnicodeEncodeError\u001b[0m                        Traceback (most recent call last)",
      "\u001b[1;32mc:\\openserver\\domains\\football-neuron-system\\server\\src\\neural\\elo\\getCSV.ipynb Cell 1\u001b[0m line \u001b[0;36m5\n\u001b[0;32m     <a href='vscode-notebook-cell:/c%3A/openserver/domains/football-neuron-system/server/src/neural/elo/getCSV.ipynb#W0sZmlsZQ%3D%3D?line=53'>54</a>\u001b[0m     \u001b[39mprint\u001b[39m(match_id, match_time, home_id, home_team, home_goals, away_goals,away_id, away_team)\n\u001b[0;32m     <a href='vscode-notebook-cell:/c%3A/openserver/domains/football-neuron-system/server/src/neural/elo/getCSV.ipynb#W0sZmlsZQ%3D%3D?line=54'>55</a>\u001b[0m \u001b[39m# Записываем данные в CSV-файл\u001b[39;00m\n\u001b[1;32m---> <a href='vscode-notebook-cell:/c%3A/openserver/domains/football-neuron-system/server/src/neural/elo/getCSV.ipynb#W0sZmlsZQ%3D%3D?line=55'>56</a>\u001b[0m     csv_writer\u001b[39m.\u001b[39;49mwriterow([match_id, match_time, home_id, home_team, home_goals, away_goals,away_id, away_team])\n",
      "File \u001b[1;32mC:\\Program Files\\WindowsApps\\PythonSoftwareFoundation.Python.3.10_3.10.3056.0_x64__qbz5n2kfra8p0\\lib\\encodings\\cp1251.py:19\u001b[0m, in \u001b[0;36mIncrementalEncoder.encode\u001b[1;34m(self, input, final)\u001b[0m\n\u001b[0;32m     18\u001b[0m \u001b[39mdef\u001b[39;00m \u001b[39mencode\u001b[39m(\u001b[39mself\u001b[39m, \u001b[39minput\u001b[39m, final\u001b[39m=\u001b[39m\u001b[39mFalse\u001b[39;00m):\n\u001b[1;32m---> 19\u001b[0m     \u001b[39mreturn\u001b[39;00m codecs\u001b[39m.\u001b[39;49mcharmap_encode(\u001b[39minput\u001b[39;49m,\u001b[39mself\u001b[39;49m\u001b[39m.\u001b[39;49merrors,encoding_table)[\u001b[39m0\u001b[39m]\n",
      "\u001b[1;31mUnicodeEncodeError\u001b[0m: 'charmap' codec can't encode character '\\xfc' in position 24: character maps to <undefined>"
     ]
    }
   ],
   "source": [
    "import http.client\n",
    "import json\n",
    "import csv\n",
    "'''\n",
    "    RFPL: 235\n",
    "    FNL: 236\n",
    "    KUBOKRFPL: 237\n",
    "    PL: 39\n",
    "    CHAMPIONSHIP: 40\n",
    "    CUP: 45\n",
    "    CARABAO: 48\n",
    "    BUNDESLIGA: 78\n",
    "    2. BUNDESLIGA: 79\n",
    "    DFB: 81\n",
    "    SERIE A: 135\n",
    "    SERIE B: 136\n",
    "    COPPA ITALIE: 137 \n",
    "'''\n",
    "\n",
    "conn = http.client.HTTPSConnection(\"v3.football.api-sports.io\")\n",
    "\n",
    "headers = {\n",
    "    'x-rapidapi-host': \"v3.football.api-sports.io\",\n",
    "    'x-rapidapi-key': \"55d8d0822bdb3026f52b479e85e3a447\"\n",
    "    }\n",
    "\n",
    "#conn.request(\"GET\", \"/fixtures?league=79&season=2023&from=2023-04-01&to=2023-11-30\", headers=headers)\n",
    "conn.request(\"GET\", \"/fixtures?league=81&season=2021\", headers=headers)\n",
    "\n",
    "res = conn.getresponse()\n",
    "data = res.read()\n",
    "\n",
    "json_data = json.loads(data)\n",
    "\n",
    "json_data = json_data['response']\n",
    "\n",
    "# Открываем CSV-файл для записи\n",
    "with open('csv/Germany/2021/DFB.csv', 'w', encoding='utf-8', newline='') as csvfile:\n",
    "    # Создаем объект для записи CSV\n",
    "    csv_writer = csv.writer(csvfile)\n",
    "    \n",
    "    # Записываем заголовки (названия полей)\n",
    "    csv_writer.writerow(['fixtueID' ,'timestamp', 'home_team_id', 'home_team_name', 'home_goals', 'away_goals', 'away_team_id'\n",
    "                         ,'away_team_name'])\n",
    "    for match in json_data:\n",
    "        match_id = match['fixture']['id']\n",
    "        match_time = match['fixture']['timestamp']\n",
    "        home_id = match['teams']['home']['id']\n",
    "        home_team = match['teams']['home']['name']\n",
    "        home_goals = match['goals']['home']\n",
    "        away_id = match['teams']['away']['id']\n",
    "        away_goals = match['goals']['away']\n",
    "        away_team = match['teams']['away']['name']\n",
    "        print(match_id, match_time, home_id, home_team, home_goals, away_goals,away_id, away_team)\n",
    "    # Записываем данные в CSV-файл\n",
    "        csv_writer.writerow([match_id, match_time, home_id, home_team, home_goals, away_goals,away_id, away_team])\n"
   ]
  },
  {
   "cell_type": "code",
   "execution_count": null,
   "id": "e515f3d3",
   "metadata": {},
   "outputs": [],
   "source": []
  },
  {
   "cell_type": "code",
   "execution_count": null,
   "id": "729f9632",
   "metadata": {},
   "outputs": [],
   "source": []
  }
 ],
 "metadata": {
  "kernelspec": {
   "display_name": "Python 3 (ipykernel)",
   "language": "python",
   "name": "python3"
  },
  "language_info": {
   "codemirror_mode": {
    "name": "ipython",
    "version": 3
   },
   "file_extension": ".py",
   "mimetype": "text/x-python",
   "name": "python",
   "nbconvert_exporter": "python",
   "pygments_lexer": "ipython3",
   "version": "3.10.11"
  }
 },
 "nbformat": 4,
 "nbformat_minor": 5
}
